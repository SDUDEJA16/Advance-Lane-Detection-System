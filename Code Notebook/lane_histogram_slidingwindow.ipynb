{
 "cells": [
  {
   "cell_type": "code",
   "execution_count": 2,
   "metadata": {},
   "outputs": [],
   "source": [
    "import numpy as np\n",
    "import matplotlib.image as mpimg\n",
    "import matplotlib.pyplot as plt\n",
    "import cv2"
   ]
  },
  {
   "cell_type": "code",
   "execution_count": 3,
   "metadata": {},
   "outputs": [],
   "source": [
    "img = mpimg.imread('warped_example.jpg')\n",
    "#normalize\n",
    "img=img/255"
   ]
  },
  {
   "cell_type": "code",
   "execution_count": 4,
   "metadata": {},
   "outputs": [
    {
     "data": {
      "text/plain": [
       "[<matplotlib.lines.Line2D at 0x18db8358908>]"
      ]
     },
     "execution_count": 4,
     "metadata": {},
     "output_type": "execute_result"
    },
    {
     "data": {
      "image/png": "[encoded data removed]",
      "text/plain": [
       "<Figure size 432x288 with 1 Axes>"
      ]
     },
     "metadata": {
      "needs_background": "light"
     },
     "output_type": "display_data"
    }
   ],
   "source": [
    "def draw_hist(img):\n",
    "    height=img.shape[0]\n",
    "    width=img.shape[1]\n",
    "    bottom_half = img[(height//2):,:]\n",
    "\n",
    "    #axis=0 means vertically calculating sum of pixels and and its value represented as histogram\n",
    "    hist = np.sum(bottom_half,axis=0)\n",
    "    \n",
    "    return hist\n",
    "\n",
    "\n",
    "hist = draw_hist(img)\n",
    "plt.plot(hist)"
   ]
  },
  {
   "cell_type": "code",
   "execution_count": 5,
   "metadata": {},
   "outputs": [],
   "source": [
    "def find_peak(hist):\n",
    "    mid_p=np.int(hist.shape[0]//2)\n",
    "    left_lane=np.argmax(hist[:mid_p])\n",
    "    right_lane=np.argmax(hist[mid_p:])+mid_p\n",
    "    return left_lane,right_lane\n"
   ]
  },
  {
   "cell_type": "code",
   "execution_count": 6,
   "metadata": {},
   "outputs": [],
   "source": [
    "def lane_fit(img):\n",
    "    hist=draw_hist(img)\n",
    "    left,right=find_peak(hist)\n",
    "    \n",
    "    #sliding window parameters\n",
    "    window_no=10\n",
    "    height=(img.shape[0]//window_no)\n",
    "    width=200\n",
    "    margin=100\n",
    "    pix_req_torecenter=50 #no of pixels required to be present in sliding window in order to recenter it\n",
    "    left_lane_start=left\n",
    "    right_lane_start=right\n",
    "    \n",
    "    #find non zero pixel indexes \n",
    "    non_zero_index=img.nonzero()\n",
    "    non_zero_y=np.array(non_zero_index[0])\n",
    "    non_zero_x=np.array(non_zero_index[1])\n",
    "    \n",
    "    #indexes found by moving sliding window having non zero value\n",
    "    left_lane=[]\n",
    "    right_lane=[]\n",
    "    \n",
    "    #creating image to 3d \n",
    "    vis=np.dstack((img,img,img))\n",
    "    \n",
    "    #sliding window\n",
    "    for w in range(window_no):\n",
    "        #find window boundaries\n",
    "        win_y_bottom=img.shape[0]-w*height\n",
    "        win_y_top=img.shape[0]-(w+1)*height\n",
    "        win_left_low_x=left_lane_start-margin\n",
    "        win_left_high_x=left_lane_start+margin\n",
    "        win_right_low_x=right_lane_start-margin\n",
    "        win_right_high_x=right_lane_start+margin\n",
    "        \n",
    "        #plt.imshow(vis)\n",
    "        #plt.plot(win_left_low_x,win_y_top,'.')\n",
    "        #draw boxes\n",
    "        cv2.rectangle(vis,(win_left_low_x,win_y_bottom),( win_left_high_x,win_y_top),(0,255,0),3)\n",
    "        cv2.rectangle(vis,(win_right_low_x,win_y_bottom),( win_right_high_x,win_y_top),(255,0,0),3)\n",
    "        \n",
    "        \n",
    "        #find index i present in window so that nonzerox[i],nonzeroy[i] is the coordinates that is not zero and present in sliding window\n",
    "        good_left_index = ((non_zero_y >= win_y_top) & (non_zero_y <win_y_bottom ) & \n",
    "        (non_zero_x >= win_left_low_x) &  (non_zero_x <win_left_high_x)).nonzero()[0] #getting indexes where a non zero value is there and getting its pixel value\n",
    "        good_right_index = ((non_zero_y >=  win_y_top) & (non_zero_y <win_y_bottom) & \n",
    "        (non_zero_x >= win_right_low_x) &  (non_zero_x < win_right_high_x)).nonzero()[0]\n",
    "        \n",
    "        #append pixel to list\n",
    "        left_lane.append(good_left_index)\n",
    "        right_lane.append(good_right_index)\n",
    "        \n",
    "        if(len(good_left_index)>pix_req_torecenter):\n",
    "            left_lane_start=np.int(np.mean(non_zero_x[good_left_index]))\n",
    "        if(len(good_right_index)>pix_req_torecenter):\n",
    "            right_lane_start=np.int(np.mean(non_zero_x[good_right_index]))\n",
    "        \n",
    "    left_lane=np.concatenate(left_lane)\n",
    "    right_lane=np.concatenate(right_lane)\n",
    "    \n",
    "    leftx = non_zero_x[left_lane]\n",
    "    lefty = non_zero_y[left_lane] \n",
    "    rightx = non_zero_x[right_lane] \n",
    "    righty = non_zero_y[right_lane] \n",
    "    \n",
    "    return leftx,lefty,rightx,righty,vis\n",
    "    \n",
    "        \n",
    "\n",
    "    \n",
    "    \n",
    "        \n",
    "        \n",
    "        "
   ]
  },
  {
   "cell_type": "code",
   "execution_count": 13,
   "metadata": {
    "scrolled": true
   },
   "outputs": [],
   "source": [
    "def polynomial_regression(img):\n",
    "    x_left,y_left,x_right,y_right,vis=lane_fit(img)\n",
    "    left_polyfit=np.polyfit(y_left,x_left,2)\n",
    "    right_polyfit=np.polyfit(y_right,x_right,2)\n",
    "    print(left_polyfit)\n",
    "    print(right_polyfit)\n",
    "    ycoords=np.linspace(0,(img.shape[0]-1),img.shape[0])\n",
    "    \n",
    "    try:\n",
    "        left_fitx = left_polyfit[0] * ycoords**2 + left_polyfit[1] * ycoords + left_polyfit[2]\n",
    "        right_fitx = right_polyfit[0] * ycoords**2 + right_polyfit[1] * ycoords + right_polyfit[2]\n",
    "    except TypeError:\n",
    "        print('Fitting to points failed')\n",
    "        left_fitx = 1*ycoords**2 + 1*ycoords\n",
    "        right_fitx = 1*ycoords**2 + 1*ycoords\n",
    "    \n",
    "    ## Visualization ##\n",
    "    # Colors in the left and right lane regions\n",
    "    vis[y_left, x_left] = [255, 0, 0]\n",
    "    vis[y_right, x_right] = [0, 0, 255]\n",
    "\n",
    "    # Plots the left and right polynomials on the lane lines\n",
    "    plt.plot(left_fitx, ycoords, color='yellow')\n",
    "    plt.plot(right_fitx, ycoords, color='yellow')\n",
    "\n",
    "    return left_fitx,right_fitx,ycoords,vis\n",
    "    \n",
    "\n"
   ]
  },
  {
   "cell_type": "code",
   "execution_count": 14,
   "metadata": {},
   "outputs": [
    {
     "name": "stderr",
     "output_type": "stream",
     "text": [
      "Clipping input data to the valid range for imshow with RGB data ([0..1] for floats or [0..255] for integers).\n"
     ]
    },
    {
     "name": "stdout",
     "output_type": "stream",
     "text": [
      "[ 2.18257793e-04 -3.88029241e-01  4.78175694e+02]\n",
      "[ 4.19669853e-04 -4.79994684e-01  1.11527328e+03]\n"
     ]
    },
    {
     "data": {
      "text/plain": [
       "<matplotlib.image.AxesImage at 0x18db8389240>"
      ]
     },
     "execution_count": 14,
     "metadata": {},
     "output_type": "execute_result"
    },
    {
     "data": {
      "image/png": "[encoded data removed]",
      "text/plain": [
       "<Figure size 432x288 with 1 Axes>"
      ]
     },
     "metadata": {
      "needs_background": "light"
     },
     "output_type": "display_data"
    }
   ],
   "source": [
    "left,right,y,vis=polynomial_regression(img)\n",
    "plt.imshow(vis)"
   ]
  },
  {
   "cell_type": "code",
   "execution_count": null,
   "metadata": {},
   "outputs": [],
   "source": []
  },
  {
   "cell_type": "code",
   "execution_count": null,
   "metadata": {},
   "outputs": [],
   "source": []
  },
  {
   "cell_type": "code",
   "execution_count": null,
   "metadata": {},
   "outputs": [],
   "source": [
    "\n"
   ]
  },
  {
   "cell_type": "code",
   "execution_count": null,
   "metadata": {},
   "outputs": [],
   "source": []
  }
 ],
 "metadata": {
  "kernelspec": {
   "display_name": "Python 3",
   "language": "python",
   "name": "python3"
  },
  "language_info": {
   "codemirror_mode": {
    "name": "ipython",
    "version": 3
   },
   "file_extension": ".py",
   "mimetype": "text/x-python",
   "name": "python",
   "nbconvert_exporter": "python",
   "pygments_lexer": "ipython3",
   "version": "3.6.5"
  }
 },
 "nbformat": 4,
 "nbformat_minor": 2
}
